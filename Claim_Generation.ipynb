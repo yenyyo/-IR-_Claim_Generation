{
  "cells": [
    {
      "cell_type": "markdown",
      "metadata": {
        "id": "zfjivGEqj9pT"
      },
      "source": [
        "0. Make sure that google colab is using GPU-Runtime\n",
        "1. Preparation\n",
        "\n",
        "    1. Create a folder named IR in your Google Drive main directory\n",
        "    2. Download [Claim_Generation](https://github.com/teacherpeterpan/Zero-shot-Fact-Verification) and place it inside IR/ folder.\n",
        "    3. Download [s2v_old.zip](https://github.com/teacherpeterpan/Zero-shot-Fact-Verification) ( Located under c)Claim Generation ) and place it inside IR/ folder \n",
        "    4. Download [Pre-processed Wikipedia Pages (June 2017 dump)](https://fever.ai/dataset/fever.html) and place it inside IR/ folder\n",
        "\n",
        "note : all downloads will be in .zip format. We will unzip them later on"
      ]
    },
    {
      "cell_type": "code",
      "execution_count": null,
      "metadata": {
        "colab": {
          "base_uri": "https://localhost:8080/"
        },
        "id": "6nKy51FYykec",
        "outputId": "9c9b1d9c-26d0-4619-f5b2-046e4864b331"
      },
      "outputs": [],
      "source": [
        "# 1 - Install necessary components\n",
        "\n",
        "!rm -r sample_data/\n",
        "!mkdir logs/\n",
        "!pip install gsutil > logs/gsutil_log.txt && echo \"gsutil module installed\" || echo \"installation of gsutil failed, see log for more info\"\n",
        "!pip install stanza > logs/stanza_log.txt && echo \"stanza module installed\" || echo \"installation of stanza failed, see log for more info\"\n",
        "!pip install sentencepiece > logs/sentenpiece_log.txt && echo \"sentencepiece module installed\" || echo \"installation of sentenpiece failed, see log for more info\"\n",
        "!pip install nltk > logs/ntlk_log.txt && echo \"nltk module installed\" || echo \"installation of nltk failed, see log for more info\"\n",
        "import nltk\n",
        "nltk.download('punkt')\n",
        "!pip install sense2vec > logs/sense2vec_log.txt && echo \"sense2vec module installed\" || echo \"installation of sense2vec failed, see log for more info\"\n",
        "!pip install simpletransformers > logs/transformers_log.txt && echo \"Transformers module installed\" || echo \"installation os transformers failed, see log for more info\""
      ]
    },
    {
      "cell_type": "code",
      "execution_count": null,
      "metadata": {
        "colab": {
          "base_uri": "https://localhost:8080/"
        },
        "id": "SjYOHTeujXDx",
        "outputId": "e813dd01-ab3a-4047-b013-3a67217a679e"
      },
      "outputs": [],
      "source": [
        "# 2 - Prepare the enviroment.\n",
        "\n",
        "# Create the directories needed to store the data, the code and the output of the models\n",
        "!mkdir -p ./data/\n",
        "!mkdir -p ./output/intermediate/\n",
        "!mkdir -p ./dependencies/\n",
        "!mkdir -p ./dependencies/QA2D_model/\n",
        "!gsutil -m cp gs://few-shot-fact-verification/data/* ./data/\n",
        "\n",
        "# Connect to Google Drive - The files we want to import are too large and a locally upload would be too slow, so we chose connection\n",
        "# to Google Drive\n",
        "from google.colab import drive\n",
        "drive.mount('/content/drive/')\n",
        "\n",
        "# Copy and prepare the code\n",
        "!cp drive/MyDrive/IR/Claim_Generation.zip /content\n",
        "!unzip Claim_Generation.zip -d code > logs/unzip_claim_Generation_log.txt && echo \"unzip of Claim_Generation was ok\" || echo \"unzip of Claim_Generation failed\"\n",
        "!rm -r Claim_Generation.zip\n",
        "\n",
        "# We have saved the pretrained s2v model in Google Drive and we import it from there\n",
        "!cp -r drive/MyDrive/IR/s2v_old.zip /content\n",
        "!unzip s2v_old.zip -d dependencies > logs/unzip_s2v_old.txt && echo \"unzip of s2v was ok\" || echo \"unzip of s2v failed\"\n",
        "!rm -r s2v_old.zip\n",
        "\n",
        "# We copy the pretrained QA2D\n",
        "!gsutil cp gs://few-shot-fact-verification/QA2D_model/* /content/dependencies/QA2D_model > logs/QA2D_model.txt\n",
        "\n",
        "# We have stored the Wikipedia pages in Google Drive and we import them from there (same here for faster results)\n",
        "!cp -r drive/MyDrive/IR/wiki_pages.zip /content\n",
        "!unzip wiki_pages.zip -d data\n",
        "!rm -r wiki_pages.zip"
      ]
    },
    {
      "cell_type": "markdown",
      "metadata": {},
      "source": [
        "In this section we will run the model with sample data and save the results localy. The overview of what we'll do is as follows:\n",
        "\n",
        "1. Run NER extraction\n",
        "2. Generate QA for training set\n",
        "3. Generate QA for development set\n",
        "4. Claim generation of SUPPORTED claims\n",
        "5. Claim generation of REFUTED claims\n",
        "6. Claim generation of NEI claims\n",
        "7. Save results"
      ]
    },
    {
      "cell_type": "code",
      "execution_count": null,
      "metadata": {
        "colab": {
          "base_uri": "https://localhost:8080/"
        },
        "id": "iB0Bz75s0CZ2",
        "outputId": "101005b8-a31f-4b76-f225-75ebcf714d43"
      },
      "outputs": [],
      "source": [
        "# 3 - Run the code (NERs, QAs, Claims)\n",
        "\n",
        "# NER EXTRACTION\n",
        "!python code/Claim_Generation/Extract_NERs.py \\\n",
        "    --train_path data/fever_train.processed.json \\\n",
        "    --dev_path data/fever_dev.processed.json \\\n",
        "    --save_path output/intermediate/"
      ]
    },
    {
      "cell_type": "code",
      "execution_count": null,
      "metadata": {
        "colab": {
          "base_uri": "https://localhost:8080/"
        },
        "id": "JqQ5QGQP3dCC",
        "outputId": "44040f1e-5454-432d-e96a-24881c083e15"
      },
      "outputs": [],
      "source": [
        "# QA GENERATION for the training set\n",
        "!python code/Claim_Generation/Generate_QAs.py \\\n",
        "    --train_path data/fever_train.processed.json \\\n",
        "    --dev_path data/fever_dev.processed.json \\\n",
        "    --data_split train \\\n",
        "    --entity_dict output/intermediate/entity_dict_train.json \\\n",
        "    --save_path output/intermediate/precompute_QAs_train.json"
      ]
    },
    {
      "cell_type": "code",
      "execution_count": null,
      "metadata": {
        "colab": {
          "base_uri": "https://localhost:8080/"
        },
        "id": "C09k0F2ZPay3",
        "outputId": "d95a8f66-df00-4308-b0cf-30796ef8559c"
      },
      "outputs": [],
      "source": [
        "# QA GENERATION for the development set\n",
        "!python code/Claim_Generation/Generate_QAs.py \\\n",
        "    --train_path data/fever_train.processed.json \\\n",
        "    --dev_path data/fever_dev.processed.json \\\n",
        "    --data_split dev \\\n",
        "    --entity_dict output/intermediate/entity_dict_dev.json \\\n",
        "    --save_path output/intermediate/precompute_QAs_dev.json"
      ]
    },
    {
      "cell_type": "code",
      "execution_count": null,
      "metadata": {
        "colab": {
          "base_uri": "https://localhost:8080/"
        },
        "id": "GzLv8ZUJmEG0",
        "outputId": "a286b252-45cc-4c05-f6d1-d4d7d6313b60"
      },
      "outputs": [],
      "source": [
        "# CLAIM GENERATION FOR SUPPORTED CLAIMS\n",
        "!python code/Claim_Generation/Claim_Generation.py \\\n",
        "    --split train \\\n",
        "    --train_path data/fever_train.processed.json \\\n",
        "    --dev_path data/fever_train.processed.json \\\n",
        "    --entity_dict output/intermediate/entity_dict_train.json \\\n",
        "    --QA_path output/intermediate/precompute_QAs_train.json \\\n",
        "    --QA2D_model_path dependencies/QA2D_model \\\n",
        "    --sense_to_vec_path dependencies/s2v_old \\\n",
        "    --save_path output/SUPPORTED_claims.json \\\n",
        "    --claim_type SUPPORTED "
      ]
    },
    {
      "cell_type": "code",
      "execution_count": null,
      "metadata": {
        "colab": {
          "base_uri": "https://localhost:8080/"
        },
        "id": "k4U60nsrniCB",
        "outputId": "92ed2718-6e68-4da4-efa1-6de300e1cbb1"
      },
      "outputs": [],
      "source": [
        "# CLAIM GENERATION FOR REFUTED CLAIMS\n",
        "!python code/Claim_Generation/Claim_Generation.py \\\n",
        "    --split train \\\n",
        "    --train_path data/fever_train.processed.json \\\n",
        "    --dev_path data/fever_train.processed.json \\\n",
        "    --entity_dict output/intermediate/entity_dict_train.json \\\n",
        "    --QA_path output/intermediate/precompute_QAs_train.json \\\n",
        "    --QA2D_model_path dependencies/QA2D_model \\\n",
        "    --sense_to_vec_path dependencies/s2v_old \\\n",
        "    --save_path output/REFUTED_claims.json \\\n",
        "    --claim_type REFUTED"
      ]
    },
    {
      "cell_type": "code",
      "execution_count": null,
      "metadata": {
        "colab": {
          "base_uri": "https://localhost:8080/"
        },
        "id": "oh4007sJu0uX",
        "outputId": "e0d019ed-72f8-4748-ba55-91650e95cd68"
      },
      "outputs": [],
      "source": [
        "# CLAIM GENERATION FOR NEI CLAIMS\n",
        "!python code/Claim_Generation/Claim_Generation.py \\\n",
        "    --split train \\\n",
        "    --train_path data/fever_train.processed.json \\\n",
        "    --dev_path data/fever_train.processed.json \\\n",
        "    --entity_dict output/intermediate/entity_dict_train.json \\\n",
        "    --QA_path output/intermediate/precompute_QAs_train.json \\\n",
        "    --QA2D_model_path dependencies/QA2D_model \\\n",
        "    --sense_to_vec_path dependencies/s2v_old \\\n",
        "    --save_path output/NEI_claims.json \\\n",
        "    --claim_type NEI \\\n",
        "    --wiki_path data/wiki-pages/wiki-pages"
      ]
    },
    {
      "cell_type": "code",
      "execution_count": null,
      "metadata": {
        "colab": {
          "base_uri": "https://localhost:8080/",
          "height": 173
        },
        "id": "sVB08O2Nynll",
        "outputId": "064c0d2b-b723-483a-a977-672793034373"
      },
      "outputs": [],
      "source": [
        "# 4 - Save the results locally\n",
        "\n",
        "# zip output folder and download it locally\n",
        "!zip -r output.zip output\n",
        "from google.colab import files\n",
        "files.download('output.zip')"
      ]
    },
    {
      "cell_type": "markdown",
      "metadata": {},
      "source": [
        "This is the testing workbench. It takes as input some data we generated ourselves instead of the input data. The overview is the same\n",
        "\n",
        "0. Prepare enviroment\n",
        "    1. Upload into IR/ folder in your google drive both: \"fever_dev_test.processed.json\" and \"fever_train_test.processed.json\" files.\n",
        "\n",
        "       The files can be located under '02 - DATA' in the github repo where you found this notebook\n",
        "1. Run NER extraction\n",
        "2. Generate QA for test set\n",
        "3. Generate QA for dev set\n",
        "4. Claim generation of SUPPORTED claims for test\n",
        "5. Claim generation of REFUTED claims for test"
      ]
    },
    {
      "cell_type": "code",
      "execution_count": null,
      "metadata": {
        "id": "SYD13T5XscZd"
      },
      "outputs": [],
      "source": [
        "# 5 - Testing workbench\n",
        "!mkdir test/\n",
        "!cp drive/MyDrive/IR/fever_dev_test.processed.json /content/test\n",
        "!cp drive/MyDrive/IR/fever_train_test.processed.json /content/test"
      ]
    },
    {
      "cell_type": "code",
      "execution_count": null,
      "metadata": {
        "colab": {
          "base_uri": "https://localhost:8080/"
        },
        "id": "rIg_qCVmskf5",
        "outputId": "1b9726be-d8c8-4c8e-97e1-b76a505026de"
      },
      "outputs": [],
      "source": [
        "# NER EXTRACTION for training\n",
        "!python code/Claim_Generation/Extract_NERs.py \\\n",
        "    --train_path test/fever_train_test.processed.json \\\n",
        "    --dev_path test/fever_dev_test.processed.json \\\n",
        "    --save_path test/"
      ]
    },
    {
      "cell_type": "code",
      "execution_count": null,
      "metadata": {
        "colab": {
          "base_uri": "https://localhost:8080/"
        },
        "id": "CQavx14Su9s4",
        "outputId": "66e3a7d5-0432-439f-bb7a-28f156bbd08e"
      },
      "outputs": [],
      "source": [
        "# QA GENERATION for the training set\n",
        "!python code/Claim_Generation/Generate_QAs.py \\\n",
        "    --train_path test/fever_train_test.processed.json \\\n",
        "    --dev_path test/fever_dev_test.processed.json \\\n",
        "    --data_split train \\\n",
        "    --entity_dict test/entity_dict_train.json \\\n",
        "    --save_path test/precompute_QAs_train.json"
      ]
    },
    {
      "cell_type": "code",
      "execution_count": null,
      "metadata": {
        "colab": {
          "base_uri": "https://localhost:8080/"
        },
        "id": "8Rbuo3NbvSRr",
        "outputId": "c5ebd3d3-0a83-40db-8a6a-1645897b83cf"
      },
      "outputs": [],
      "source": [
        "# QA GENERATION for the development set\n",
        "!python code/Claim_Generation/Generate_QAs.py \\\n",
        "    --train_path test/fever_train_test.processed.json \\\n",
        "    --dev_path test/fever_dev_test.processed.json \\\n",
        "    --data_split dev \\\n",
        "    --entity_dict test/entity_dict_dev.json \\\n",
        "    --save_path test/precompute_QAs_dev.json"
      ]
    },
    {
      "cell_type": "code",
      "execution_count": null,
      "metadata": {
        "colab": {
          "base_uri": "https://localhost:8080/"
        },
        "id": "-7kcRKCIvWwd",
        "outputId": "26d1f078-cbbd-448e-8156-e7e5104ecba6"
      },
      "outputs": [],
      "source": [
        "# CLAIM GENERATION FOR SUPPORTED CLAIMS\n",
        "!python code/Claim_Generation/Claim_Generation.py \\\n",
        "    --split train \\\n",
        "    --train_path test/fever_train_test.processed.json \\\n",
        "    --dev_path test/fever_train_test.processed.json \\\n",
        "    --entity_dict test/entity_dict_train.json \\\n",
        "    --QA_path test/precompute_QAs_train.json \\\n",
        "    --QA2D_model_path dependencies/QA2D_model \\\n",
        "    --sense_to_vec_path dependencies/s2v_old \\\n",
        "    --save_path test/SUPPORTED_claims.json \\\n",
        "    --claim_type SUPPORTED > logs/Claim_Generation_sup_log.txt"
      ]
    },
    {
      "cell_type": "code",
      "execution_count": null,
      "metadata": {
        "colab": {
          "base_uri": "https://localhost:8080/"
        },
        "id": "-ZzB0eIAwzX8",
        "outputId": "86588cac-8ab5-4f2b-e80c-2110dfe33945"
      },
      "outputs": [],
      "source": [
        "# CLAIM GENERATION FOR REFUTED CLAIMS\n",
        "!python code/Claim_Generation/Claim_Generation.py \\\n",
        "    --split train \\\n",
        "    --train_path test/fever_train_test.processed.json \\\n",
        "    --dev_path test/fever_train_test.processed.json \\\n",
        "    --entity_dict test/entity_dict_train.json \\\n",
        "    --QA_path test/precompute_QAs_train.json \\\n",
        "    --QA2D_model_path dependencies/QA2D_model \\\n",
        "    --sense_to_vec_path dependencies/s2v_old \\\n",
        "    --save_path test/REFUTED_claims.json \\\n",
        "    --claim_type REFUTED > logs/Claim_Generation_sup_log.txt"
      ]
    }
  ],
  "metadata": {
    "accelerator": "GPU",
    "colab": {
      "gpuType": "T4",
      "provenance": []
    },
    "kernelspec": {
      "display_name": "Python 3",
      "name": "python3"
    },
    "language_info": {
      "name": "python"
    }
  },
  "nbformat": 4,
  "nbformat_minor": 0
}
